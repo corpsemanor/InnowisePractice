{
 "cells": [
  {
   "cell_type": "markdown",
   "metadata": {},
   "source": [
    "Lib imports, ds paths etc."
   ]
  },
  {
   "cell_type": "code",
   "execution_count": 1,
   "metadata": {},
   "outputs": [],
   "source": [
    "import os\n",
    "import numpy as np\n",
    "import pandas as pd\n",
    "import matplotlib.pyplot as plt\n",
    "import seaborn as sns\n",
    "from itertools import islice\n",
    "from scripts.scripts import *"
   ]
  },
  {
   "cell_type": "code",
   "execution_count": 2,
   "metadata": {},
   "outputs": [],
   "source": [
    "data_paths = {}\n",
    "\n",
    "for dirname, _, filenames in os.walk('../competitive-data-science-predict-future-sales'):\n",
    "    for filename in filenames:\n",
    "        data_paths[filename] = f\"{dirname}/{filename}\""
   ]
  },
  {
   "cell_type": "code",
   "execution_count": 3,
   "metadata": {},
   "outputs": [],
   "source": [
    "data = {}\n",
    "\n",
    "for file, path in data_paths.items():\n",
    "    data[file.split('.')[0]] = pd.read_csv(path)"
   ]
  },
  {
   "cell_type": "markdown",
   "metadata": {},
   "source": [
    "# DQC"
   ]
  },
  {
   "cell_type": "markdown",
   "metadata": {},
   "source": [
    "### Dataframe overview\n",
    "\n",
    "There are six tables in total:\n",
    "\n",
    "1. item_categories: The table consists of two columns, item_id and category_id corresponding to the item.\n",
    "2. items: three columns, item_id, category_id and item_name.\n",
    "3. sales_rain: The table consists of six columns. date, date_block_num (hereinafter defined as month), shop_id, item_id, item_price, item_cnt_day (number of item sales on the corresponding day).\n",
    "4. shops: A table of store IDs and shop names.\n",
    "5. sample_submission: An example of the format in which predictions should be made.\n",
    "6. test: The data on which predictions should be made.\n",
    "\n"
   ]
  },
  {
   "cell_type": "markdown",
   "metadata": {},
   "source": [
    "## Overview all tables"
   ]
  },
  {
   "cell_type": "code",
   "execution_count": 4,
   "metadata": {},
   "outputs": [
    {
     "name": "stdout",
     "output_type": "stream",
     "text": [
      "Items Description:\n",
      "           item_id  item_category_id\n",
      "count  22170.00000      22170.000000\n",
      "mean   11084.50000         46.290753\n",
      "std     6400.07207         15.941486\n",
      "min        0.00000          0.000000\n",
      "25%     5542.25000         37.000000\n",
      "50%    11084.50000         40.000000\n",
      "75%    16626.75000         58.000000\n",
      "max    22169.00000         83.000000\n",
      "\n",
      "Shops Description:\n",
      "         shop_id\n",
      "count  60.000000\n",
      "mean   29.500000\n",
      "std    17.464249\n",
      "min     0.000000\n",
      "25%    14.750000\n",
      "50%    29.500000\n",
      "75%    44.250000\n",
      "max    59.000000\n",
      "\n",
      "Item Categories Description:\n",
      "       item_category_id\n",
      "count         84.000000\n",
      "mean          41.500000\n",
      "std           24.392622\n",
      "min            0.000000\n",
      "25%           20.750000\n",
      "50%           41.500000\n",
      "75%           62.250000\n",
      "max           83.000000\n"
     ]
    }
   ],
   "source": [
    "print(\"Items Description:\")\n",
    "print(data['items'].describe())\n",
    "\n",
    "print(\"\\nShops Description:\")\n",
    "print(data['shops'].describe())\n",
    "\n",
    "print(\"\\nItem Categories Description:\")\n",
    "print(data['item_categories'].describe())"
   ]
  },
  {
   "cell_type": "markdown",
   "metadata": {},
   "source": [
    "Overall there's nothing strange or suspicious in that dataframes, because that dataframes is not as complex as sales_train."
   ]
  },
  {
   "cell_type": "markdown",
   "metadata": {},
   "source": [
    "### First of all\n",
    " let's check df for unique items, amount of Nan values and total amount of items in every table and column. It can help to understand data consistensy and see if there any outliers."
   ]
  },
  {
   "cell_type": "code",
   "execution_count": 5,
   "metadata": {},
   "outputs": [
    {
     "data": {
      "text/html": [
       "<div>\n",
       "<style scoped>\n",
       "    .dataframe tbody tr th:only-of-type {\n",
       "        vertical-align: middle;\n",
       "    }\n",
       "\n",
       "    .dataframe tbody tr th {\n",
       "        vertical-align: top;\n",
       "    }\n",
       "\n",
       "    .dataframe thead th {\n",
       "        text-align: right;\n",
       "    }\n",
       "</style>\n",
       "<table border=\"1\" class=\"dataframe\">\n",
       "  <thead>\n",
       "    <tr style=\"text-align: right;\">\n",
       "      <th></th>\n",
       "      <th>table_name</th>\n",
       "      <th>column_name</th>\n",
       "      <th>unique_count</th>\n",
       "      <th>nan_count</th>\n",
       "      <th>total_count</th>\n",
       "      <th>dtype</th>\n",
       "    </tr>\n",
       "  </thead>\n",
       "  <tbody>\n",
       "    <tr>\n",
       "      <th>0</th>\n",
       "      <td>items</td>\n",
       "      <td>item_name</td>\n",
       "      <td>22170</td>\n",
       "      <td>0</td>\n",
       "      <td>22170</td>\n",
       "      <td>object</td>\n",
       "    </tr>\n",
       "    <tr>\n",
       "      <th>1</th>\n",
       "      <td>items</td>\n",
       "      <td>item_id</td>\n",
       "      <td>22170</td>\n",
       "      <td>0</td>\n",
       "      <td>22170</td>\n",
       "      <td>int64</td>\n",
       "    </tr>\n",
       "    <tr>\n",
       "      <th>2</th>\n",
       "      <td>items</td>\n",
       "      <td>item_category_id</td>\n",
       "      <td>84</td>\n",
       "      <td>0</td>\n",
       "      <td>22170</td>\n",
       "      <td>int64</td>\n",
       "    </tr>\n",
       "    <tr>\n",
       "      <th>3</th>\n",
       "      <td>item_categories</td>\n",
       "      <td>item_category_name</td>\n",
       "      <td>84</td>\n",
       "      <td>0</td>\n",
       "      <td>84</td>\n",
       "      <td>object</td>\n",
       "    </tr>\n",
       "    <tr>\n",
       "      <th>4</th>\n",
       "      <td>item_categories</td>\n",
       "      <td>item_category_id</td>\n",
       "      <td>84</td>\n",
       "      <td>0</td>\n",
       "      <td>84</td>\n",
       "      <td>int64</td>\n",
       "    </tr>\n",
       "    <tr>\n",
       "      <th>5</th>\n",
       "      <td>sales_train</td>\n",
       "      <td>date</td>\n",
       "      <td>1034</td>\n",
       "      <td>0</td>\n",
       "      <td>2935849</td>\n",
       "      <td>object</td>\n",
       "    </tr>\n",
       "    <tr>\n",
       "      <th>6</th>\n",
       "      <td>sales_train</td>\n",
       "      <td>date_block_num</td>\n",
       "      <td>34</td>\n",
       "      <td>0</td>\n",
       "      <td>2935849</td>\n",
       "      <td>int64</td>\n",
       "    </tr>\n",
       "    <tr>\n",
       "      <th>7</th>\n",
       "      <td>sales_train</td>\n",
       "      <td>shop_id</td>\n",
       "      <td>60</td>\n",
       "      <td>0</td>\n",
       "      <td>2935849</td>\n",
       "      <td>int64</td>\n",
       "    </tr>\n",
       "    <tr>\n",
       "      <th>8</th>\n",
       "      <td>sales_train</td>\n",
       "      <td>item_id</td>\n",
       "      <td>21807</td>\n",
       "      <td>0</td>\n",
       "      <td>2935849</td>\n",
       "      <td>int64</td>\n",
       "    </tr>\n",
       "    <tr>\n",
       "      <th>9</th>\n",
       "      <td>sales_train</td>\n",
       "      <td>item_price</td>\n",
       "      <td>19993</td>\n",
       "      <td>0</td>\n",
       "      <td>2935849</td>\n",
       "      <td>float64</td>\n",
       "    </tr>\n",
       "    <tr>\n",
       "      <th>10</th>\n",
       "      <td>sales_train</td>\n",
       "      <td>item_cnt_day</td>\n",
       "      <td>198</td>\n",
       "      <td>0</td>\n",
       "      <td>2935849</td>\n",
       "      <td>float64</td>\n",
       "    </tr>\n",
       "    <tr>\n",
       "      <th>11</th>\n",
       "      <td>sample_submission</td>\n",
       "      <td>ID</td>\n",
       "      <td>214200</td>\n",
       "      <td>0</td>\n",
       "      <td>214200</td>\n",
       "      <td>int64</td>\n",
       "    </tr>\n",
       "    <tr>\n",
       "      <th>12</th>\n",
       "      <td>sample_submission</td>\n",
       "      <td>item_cnt_month</td>\n",
       "      <td>1</td>\n",
       "      <td>0</td>\n",
       "      <td>214200</td>\n",
       "      <td>float64</td>\n",
       "    </tr>\n",
       "    <tr>\n",
       "      <th>13</th>\n",
       "      <td>shops</td>\n",
       "      <td>shop_name</td>\n",
       "      <td>60</td>\n",
       "      <td>0</td>\n",
       "      <td>60</td>\n",
       "      <td>object</td>\n",
       "    </tr>\n",
       "    <tr>\n",
       "      <th>14</th>\n",
       "      <td>shops</td>\n",
       "      <td>shop_id</td>\n",
       "      <td>60</td>\n",
       "      <td>0</td>\n",
       "      <td>60</td>\n",
       "      <td>int64</td>\n",
       "    </tr>\n",
       "    <tr>\n",
       "      <th>15</th>\n",
       "      <td>test</td>\n",
       "      <td>ID</td>\n",
       "      <td>214200</td>\n",
       "      <td>0</td>\n",
       "      <td>214200</td>\n",
       "      <td>int64</td>\n",
       "    </tr>\n",
       "    <tr>\n",
       "      <th>16</th>\n",
       "      <td>test</td>\n",
       "      <td>shop_id</td>\n",
       "      <td>42</td>\n",
       "      <td>0</td>\n",
       "      <td>214200</td>\n",
       "      <td>int64</td>\n",
       "    </tr>\n",
       "    <tr>\n",
       "      <th>17</th>\n",
       "      <td>test</td>\n",
       "      <td>item_id</td>\n",
       "      <td>5100</td>\n",
       "      <td>0</td>\n",
       "      <td>214200</td>\n",
       "      <td>int64</td>\n",
       "    </tr>\n",
       "  </tbody>\n",
       "</table>\n",
       "</div>"
      ],
      "text/plain": [
       "           table_name         column_name  unique_count  nan_count  \\\n",
       "0               items           item_name         22170          0   \n",
       "1               items             item_id         22170          0   \n",
       "2               items    item_category_id            84          0   \n",
       "3     item_categories  item_category_name            84          0   \n",
       "4     item_categories    item_category_id            84          0   \n",
       "5         sales_train                date          1034          0   \n",
       "6         sales_train      date_block_num            34          0   \n",
       "7         sales_train             shop_id            60          0   \n",
       "8         sales_train             item_id         21807          0   \n",
       "9         sales_train          item_price         19993          0   \n",
       "10        sales_train        item_cnt_day           198          0   \n",
       "11  sample_submission                  ID        214200          0   \n",
       "12  sample_submission      item_cnt_month             1          0   \n",
       "13              shops           shop_name            60          0   \n",
       "14              shops             shop_id            60          0   \n",
       "15               test                  ID        214200          0   \n",
       "16               test             shop_id            42          0   \n",
       "17               test             item_id          5100          0   \n",
       "\n",
       "    total_count    dtype  \n",
       "0         22170   object  \n",
       "1         22170    int64  \n",
       "2         22170    int64  \n",
       "3            84   object  \n",
       "4            84    int64  \n",
       "5       2935849   object  \n",
       "6       2935849    int64  \n",
       "7       2935849    int64  \n",
       "8       2935849    int64  \n",
       "9       2935849  float64  \n",
       "10      2935849  float64  \n",
       "11       214200    int64  \n",
       "12       214200  float64  \n",
       "13           60   object  \n",
       "14           60    int64  \n",
       "15       214200    int64  \n",
       "16       214200    int64  \n",
       "17       214200    int64  "
      ]
     },
     "execution_count": 5,
     "metadata": {},
     "output_type": "execute_result"
    }
   ],
   "source": [
    "unique_nan_total(data)"
   ]
  },
  {
   "cell_type": "markdown",
   "metadata": {},
   "source": [
    "There are several issues with the data. For example, \n",
    "- we have 60 different shops in total, but only 42 different shops in the test set\n",
    "- the item_id counts are: test: 5100, items: 22170, train: 21807\n",
    "\n",
    "What's wrong with item_id and shop_id:\n",
    "- item_id:\n",
    "\n",
    "The number of unique item_id's in the sales_train table (21,807) is slightly less than the number in the items table (22,170). This may mean that some items were not sold or were not recorded in the sales_train table in this time period.\n",
    "It may also mean that not all items are available for sale in all stores (some items may only be available in certain stores).\n",
    "\n",
    "- shop_id:\n",
    "\n",
    "The number of unique shop_id's in the sales_train table (60) matches the number of unique stores in the shops table, which confirms that the stores are correct.\n",
    "However, you will only need to use the 42 stores listed in the test table to make a prediction. This means that you don't need to consider sales for all 60 stores, just those 42.\n",
    "\n",
    "In conclusion, not all data in the dataset is useful for training."
   ]
  },
  {
   "cell_type": "markdown",
   "metadata": {},
   "source": [
    "Given the number of dates in the file and the somewhat non-intuitive parameter \"date_block_num,\" we can assume that \"date_block_num\" refers to months. This means we have data for 34 months between 2013 and 2015, implying that our timeline does not start on the first day of 2013 or end on 31.12.2015. In the worst-case scenario, there are gaps in our data.\n",
    "\n"
   ]
  },
  {
   "cell_type": "markdown",
   "metadata": {},
   "source": [
    "Filter the prediction set by shops and items that is not in test set, that data wouldn't be useful for training."
   ]
  },
  {
   "cell_type": "code",
   "execution_count": 6,
   "metadata": {},
   "outputs": [],
   "source": [
    "df_research = data['sales_train'].copy()\n",
    "df_prediction = data['sales_train'].copy()"
   ]
  },
  {
   "cell_type": "code",
   "execution_count": 7,
   "metadata": {},
   "outputs": [
    {
     "name": "stdout",
     "output_type": "stream",
     "text": [
      "df_prediction shape after filtering: (1224439, 6)\n"
     ]
    }
   ],
   "source": [
    "test_items = data['test']['item_id'].unique()\n",
    "test_shops = data['test']['shop_id'].unique()\n",
    "\n",
    "df_prediction = df_prediction[\n",
    "    df_prediction['item_id'].isin(test_items) & df_prediction['shop_id'].isin(test_shops)\n",
    "]\n",
    "\n",
    "print(f\"df_prediction shape after filtering: {df_prediction.shape}\")\n"
   ]
  },
  {
   "cell_type": "markdown",
   "metadata": {},
   "source": [
    "### Performing timeline check to see if there any gaps in data."
   ]
  },
  {
   "cell_type": "code",
   "execution_count": 8,
   "metadata": {},
   "outputs": [
    {
     "name": "stdout",
     "output_type": "stream",
     "text": [
      "First date in timeline: 2013-01-01 00:00:00, last date in timeline: 2015-10-31 00:00:00\n",
      "\n",
      "No dates skipped.\n",
      "\n"
     ]
    }
   ],
   "source": [
    "timeline_check(data)"
   ]
  },
  {
   "cell_type": "markdown",
   "metadata": {},
   "source": [
    "There's no skipped dates, that means there wasn't any day all the franchise stopped it's work."
   ]
  },
  {
   "cell_type": "markdown",
   "metadata": {},
   "source": [
    "### To detect outliers checking dataset for min/max/mean values in every table and index. If there is something suspicious we'll perform more specific check."
   ]
  },
  {
   "cell_type": "code",
   "execution_count": 9,
   "metadata": {},
   "outputs": [
    {
     "name": "stdout",
     "output_type": "stream",
     "text": [
      "df_research shape after filtering outliers: (2935849, 6)\n"
     ]
    },
    {
     "data": {
      "text/html": [
       "<div>\n",
       "<style scoped>\n",
       "    .dataframe tbody tr th:only-of-type {\n",
       "        vertical-align: middle;\n",
       "    }\n",
       "\n",
       "    .dataframe tbody tr th {\n",
       "        vertical-align: top;\n",
       "    }\n",
       "\n",
       "    .dataframe thead th {\n",
       "        text-align: right;\n",
       "    }\n",
       "</style>\n",
       "<table border=\"1\" class=\"dataframe\">\n",
       "  <thead>\n",
       "    <tr style=\"text-align: right;\">\n",
       "      <th></th>\n",
       "      <th>item_cnt_day</th>\n",
       "      <th>item_price</th>\n",
       "    </tr>\n",
       "  </thead>\n",
       "  <tbody>\n",
       "    <tr>\n",
       "      <th>count</th>\n",
       "      <td>2.935849e+06</td>\n",
       "      <td>2.935849e+06</td>\n",
       "    </tr>\n",
       "    <tr>\n",
       "      <th>mean</th>\n",
       "      <td>1.242641e+00</td>\n",
       "      <td>8.908532e+02</td>\n",
       "    </tr>\n",
       "    <tr>\n",
       "      <th>std</th>\n",
       "      <td>2.618834e+00</td>\n",
       "      <td>1.729800e+03</td>\n",
       "    </tr>\n",
       "    <tr>\n",
       "      <th>min</th>\n",
       "      <td>-2.200000e+01</td>\n",
       "      <td>-1.000000e+00</td>\n",
       "    </tr>\n",
       "    <tr>\n",
       "      <th>1%</th>\n",
       "      <td>1.000000e+00</td>\n",
       "      <td>5.000000e+00</td>\n",
       "    </tr>\n",
       "    <tr>\n",
       "      <th>5%</th>\n",
       "      <td>1.000000e+00</td>\n",
       "      <td>9.900000e+01</td>\n",
       "    </tr>\n",
       "    <tr>\n",
       "      <th>20%</th>\n",
       "      <td>1.000000e+00</td>\n",
       "      <td>1.990000e+02</td>\n",
       "    </tr>\n",
       "    <tr>\n",
       "      <th>50%</th>\n",
       "      <td>1.000000e+00</td>\n",
       "      <td>3.990000e+02</td>\n",
       "    </tr>\n",
       "    <tr>\n",
       "      <th>70%</th>\n",
       "      <td>1.000000e+00</td>\n",
       "      <td>7.990000e+02</td>\n",
       "    </tr>\n",
       "    <tr>\n",
       "      <th>90%</th>\n",
       "      <td>2.000000e+00</td>\n",
       "      <td>1.999000e+03</td>\n",
       "    </tr>\n",
       "    <tr>\n",
       "      <th>95%</th>\n",
       "      <td>2.000000e+00</td>\n",
       "      <td>2.690000e+03</td>\n",
       "    </tr>\n",
       "    <tr>\n",
       "      <th>99%</th>\n",
       "      <td>5.000000e+00</td>\n",
       "      <td>5.999000e+03</td>\n",
       "    </tr>\n",
       "    <tr>\n",
       "      <th>max</th>\n",
       "      <td>2.169000e+03</td>\n",
       "      <td>3.079800e+05</td>\n",
       "    </tr>\n",
       "  </tbody>\n",
       "</table>\n",
       "</div>"
      ],
      "text/plain": [
       "       item_cnt_day    item_price\n",
       "count  2.935849e+06  2.935849e+06\n",
       "mean   1.242641e+00  8.908532e+02\n",
       "std    2.618834e+00  1.729800e+03\n",
       "min   -2.200000e+01 -1.000000e+00\n",
       "1%     1.000000e+00  5.000000e+00\n",
       "5%     1.000000e+00  9.900000e+01\n",
       "20%    1.000000e+00  1.990000e+02\n",
       "50%    1.000000e+00  3.990000e+02\n",
       "70%    1.000000e+00  7.990000e+02\n",
       "90%    2.000000e+00  1.999000e+03\n",
       "95%    2.000000e+00  2.690000e+03\n",
       "99%    5.000000e+00  5.999000e+03\n",
       "max    2.169000e+03  3.079800e+05"
      ]
     },
     "execution_count": 9,
     "metadata": {},
     "output_type": "execute_result"
    }
   ],
   "source": [
    "percs = df_research[['item_cnt_day','item_price']].describe(percentiles=[0.01, 0.05,0.2,0.5, 0.7, 0.9, 0.95, 0.99])\n",
    "print(f\"df_research shape after filtering outliers: {df_research.shape}\")\n",
    "\n",
    "percs"
   ]
  },
  {
   "cell_type": "markdown",
   "metadata": {},
   "source": [
    "Sales are generally small: 90% of values ​​are up to 2 items per day, but there are abnormal data: negative values ​​and outliers (up to 2,169 items).\n",
    "\n",
    "Most items have a price of up to 2,000–2,600 rubles, but there are anomalies:\n",
    "\n",
    "- negative price values;\n",
    "- extremely high prices (up to 307,980 rubles), which look like outliers.\n",
    "\n",
    "General data issues:\n",
    "1. Negative values ​​in item_cnt_day and item_price:\n",
    "May indicate data entry errors or product returns.\n",
    "2. Outliers:\n",
    "In item_cnt_day, sales of up to 2,169 items look like an anomaly.\n",
    "In item_price, prices up to 307,980 rubles are also suspiciously high."
   ]
  },
  {
   "cell_type": "markdown",
   "metadata": {},
   "source": [
    "## Plotting the data distribution (item count and item price distributions)"
   ]
  },
  {
   "cell_type": "code",
   "execution_count": 10,
   "metadata": {},
   "outputs": [
    {
     "name": "stderr",
     "output_type": "stream",
     "text": [
      "C:\\Users\\vladi\\AppData\\Local\\Temp\\ipykernel_13756\\477601048.py:6: RuntimeWarning: divide by zero encountered in log10\n",
      "  log_cnt = np.log10(aggregated_cnt.values)\n",
      "C:\\Users\\vladi\\AppData\\Local\\Temp\\ipykernel_13756\\477601048.py:6: RuntimeWarning: invalid value encountered in log10\n",
      "  log_cnt = np.log10(aggregated_cnt.values)\n"
     ]
    },
    {
     "data": {
      "image/png": "[encoded data removed]",
      "text/plain": [
       "<Figure size 1400x600 with 2 Axes>"
      ]
     },
     "metadata": {},
     "output_type": "display_data"
    }
   ],
   "source": [
    "aggregated_cnt = df_research.groupby(['item_id', 'shop_id'])['item_cnt_day'].sum()\n",
    "aggregated_price = df_research.groupby(['item_id', 'shop_id'])['item_price'].mean()\n",
    "aggregated_cnt.reset_index()\n",
    "aggregated_price.reset_index()\n",
    "\n",
    "log_cnt = np.log10(aggregated_cnt.values)\n",
    "log_price = np.log10(aggregated_price.values)\n",
    "fig, axes = plt.subplots(1, 2, figsize=(14, 6))\n",
    "\n",
    "sns.histplot(log_cnt, bins=50, color='dodgerblue', ax=axes[0])\n",
    "axes[0].set_title('Log10 Distribution of Aggregated Item Count')\n",
    "axes[0].set_xlabel('Log10(Item Count)')\n",
    "axes[0].set_ylabel('Frequency')\n",
    "\n",
    "sns.histplot(log_price, bins=50, color='tomato', ax=axes[1])\n",
    "axes[1].set_title('Log10 Distribution of Average Item Price')\n",
    "axes[1].set_xlabel('Log10(Item Price)')\n",
    "axes[1].set_ylabel('Frequency')\n",
    "\n",
    "plt.tight_layout()\n",
    "plt.show()"
   ]
  },
  {
   "cell_type": "code",
   "execution_count": 11,
   "metadata": {},
   "outputs": [
    {
     "name": "stdout",
     "output_type": "stream",
     "text": [
      "df_research shape after filtering outliers: (2935849, 6)\n",
      "df_research shape after filtering outliers: (2866929, 6)\n"
     ]
    }
   ],
   "source": [
    "print(f\"df_research shape after filtering outliers: {df_research.shape}\")\n",
    "percs = df_research[['item_cnt_day', 'item_price']].describe(percentiles=[0.01, 0.99])\n",
    "\n",
    "lower_bound_item_cnt = percs.loc['1%', 'item_cnt_day']\n",
    "upper_bound_item_cnt = percs.loc['99%', 'item_cnt_day']\n",
    "lower_bound_item_price = percs.loc['1%', 'item_price']\n",
    "upper_bound_item_price = percs.loc['99%', 'item_price']\n",
    "\n",
    "df_research = df_research[\n",
    "    (df_research['item_cnt_day'] >= lower_bound_item_cnt) &\n",
    "    (df_research['item_cnt_day'] <= upper_bound_item_cnt) &\n",
    "    (df_research['item_price'] >= lower_bound_item_price) &\n",
    "    (df_research['item_price'] <= upper_bound_item_price)\n",
    "]\n",
    "\n",
    "print(f\"df_research shape after filtering outliers: {df_research.shape}\")\n"
   ]
  },
  {
   "cell_type": "markdown",
   "metadata": {},
   "source": [
    "Let's plot the distributions again"
   ]
  },
  {
   "cell_type": "code",
   "execution_count": 12,
   "metadata": {},
   "outputs": [
    {
     "data": {
      "image/png": "[encoded data removed]",
      "text/plain": [
       "<Figure size 1400x600 with 2 Axes>"
      ]
     },
     "metadata": {},
     "output_type": "display_data"
    }
   ],
   "source": [
    "aggregated_cnt = df_research.groupby(['item_id', 'shop_id'])['item_cnt_day'].sum()\n",
    "aggregated_price = df_research.groupby(['item_id', 'shop_id'])['item_price'].mean()\n",
    "aggregated_cnt.reset_index()\n",
    "aggregated_price.reset_index()\n",
    "\n",
    "log_cnt = np.log10(aggregated_cnt.values)\n",
    "log_price = np.log10(aggregated_price.values)\n",
    "fig, axes = plt.subplots(1, 2, figsize=(14, 6))\n",
    "\n",
    "sns.histplot(log_cnt, bins=50, color='dodgerblue', ax=axes[0])\n",
    "axes[0].set_title('Log10 Distribution of Aggregated Item Count')\n",
    "axes[0].set_xlabel('Log10(Item Count)')\n",
    "axes[0].set_ylabel('Frequency')\n",
    "\n",
    "sns.histplot(log_price, bins=50, color='tomato', ax=axes[1])\n",
    "axes[1].set_title('Log10 Distribution of Average Item Price')\n",
    "axes[1].set_xlabel('Log10(Item Price)')\n",
    "axes[1].set_ylabel('Frequency')\n",
    "\n",
    "plt.tight_layout()\n",
    "plt.show()"
   ]
  },
  {
   "cell_type": "markdown",
   "metadata": {},
   "source": [
    "Now distributions are more uniform-like"
   ]
  },
  {
   "cell_type": "markdown",
   "metadata": {},
   "source": [
    "### Negative values in data check (item_cnt_month = -1, item_cnt_day = -22.)"
   ]
  },
  {
   "cell_type": "markdown",
   "metadata": {},
   "source": [
    "Firstly check the item price column with value '-1'"
   ]
  },
  {
   "cell_type": "code",
   "execution_count": 13,
   "metadata": {},
   "outputs": [
    {
     "data": {
      "text/plain": [
       "484683   -1.0\n",
       "Name: item_price, dtype: float64"
      ]
     },
     "execution_count": 13,
     "metadata": {},
     "output_type": "execute_result"
    }
   ],
   "source": [
    "get_negative_rows_by_column(data['sales_train']['item_price'])"
   ]
  },
  {
   "cell_type": "markdown",
   "metadata": {},
   "source": [
    "Theres only one case of presisting of such type negative value, so it can be considered an outlier an deleted."
   ]
  },
  {
   "cell_type": "markdown",
   "metadata": {},
   "source": [
    "Checking all the sales thain for negative values."
   ]
  },
  {
   "cell_type": "code",
   "execution_count": 14,
   "metadata": {},
   "outputs": [
    {
     "data": {
      "text/html": [
       "<div>\n",
       "<style scoped>\n",
       "    .dataframe tbody tr th:only-of-type {\n",
       "        vertical-align: middle;\n",
       "    }\n",
       "\n",
       "    .dataframe tbody tr th {\n",
       "        vertical-align: top;\n",
       "    }\n",
       "\n",
       "    .dataframe thead th {\n",
       "        text-align: right;\n",
       "    }\n",
       "</style>\n",
       "<table border=\"1\" class=\"dataframe\">\n",
       "  <thead>\n",
       "    <tr style=\"text-align: right;\">\n",
       "      <th></th>\n",
       "      <th>date</th>\n",
       "      <th>date_block_num</th>\n",
       "      <th>shop_id</th>\n",
       "      <th>item_id</th>\n",
       "      <th>item_price</th>\n",
       "      <th>item_cnt_day</th>\n",
       "    </tr>\n",
       "  </thead>\n",
       "  <tbody>\n",
       "    <tr>\n",
       "      <th>2</th>\n",
       "      <td>05.01.2013</td>\n",
       "      <td>0</td>\n",
       "      <td>25</td>\n",
       "      <td>2552</td>\n",
       "      <td>899.0</td>\n",
       "      <td>-1.0</td>\n",
       "    </tr>\n",
       "    <tr>\n",
       "      <th>148</th>\n",
       "      <td>23.01.2013</td>\n",
       "      <td>0</td>\n",
       "      <td>25</td>\n",
       "      <td>2321</td>\n",
       "      <td>999.0</td>\n",
       "      <td>-1.0</td>\n",
       "    </tr>\n",
       "    <tr>\n",
       "      <th>175</th>\n",
       "      <td>07.01.2013</td>\n",
       "      <td>0</td>\n",
       "      <td>25</td>\n",
       "      <td>2199</td>\n",
       "      <td>1449.0</td>\n",
       "      <td>-1.0</td>\n",
       "    </tr>\n",
       "    <tr>\n",
       "      <th>807</th>\n",
       "      <td>02.01.2013</td>\n",
       "      <td>0</td>\n",
       "      <td>25</td>\n",
       "      <td>2330</td>\n",
       "      <td>599.0</td>\n",
       "      <td>-1.0</td>\n",
       "    </tr>\n",
       "    <tr>\n",
       "      <th>1041</th>\n",
       "      <td>13.01.2013</td>\n",
       "      <td>0</td>\n",
       "      <td>25</td>\n",
       "      <td>5034</td>\n",
       "      <td>1989.0</td>\n",
       "      <td>-1.0</td>\n",
       "    </tr>\n",
       "    <tr>\n",
       "      <th>...</th>\n",
       "      <td>...</td>\n",
       "      <td>...</td>\n",
       "      <td>...</td>\n",
       "      <td>...</td>\n",
       "      <td>...</td>\n",
       "      <td>...</td>\n",
       "    </tr>\n",
       "    <tr>\n",
       "      <th>2934243</th>\n",
       "      <td>26.10.2015</td>\n",
       "      <td>33</td>\n",
       "      <td>25</td>\n",
       "      <td>3917</td>\n",
       "      <td>449.0</td>\n",
       "      <td>-1.0</td>\n",
       "    </tr>\n",
       "    <tr>\n",
       "      <th>2934462</th>\n",
       "      <td>18.10.2015</td>\n",
       "      <td>33</td>\n",
       "      <td>25</td>\n",
       "      <td>4896</td>\n",
       "      <td>6398.0</td>\n",
       "      <td>-1.0</td>\n",
       "    </tr>\n",
       "    <tr>\n",
       "      <th>2935263</th>\n",
       "      <td>05.10.2015</td>\n",
       "      <td>33</td>\n",
       "      <td>25</td>\n",
       "      <td>10039</td>\n",
       "      <td>249.0</td>\n",
       "      <td>-1.0</td>\n",
       "    </tr>\n",
       "    <tr>\n",
       "      <th>2935643</th>\n",
       "      <td>16.10.2015</td>\n",
       "      <td>33</td>\n",
       "      <td>25</td>\n",
       "      <td>7893</td>\n",
       "      <td>2990.0</td>\n",
       "      <td>-1.0</td>\n",
       "    </tr>\n",
       "    <tr>\n",
       "      <th>2935779</th>\n",
       "      <td>07.10.2015</td>\n",
       "      <td>33</td>\n",
       "      <td>25</td>\n",
       "      <td>7087</td>\n",
       "      <td>999.0</td>\n",
       "      <td>-1.0</td>\n",
       "    </tr>\n",
       "  </tbody>\n",
       "</table>\n",
       "<p>7357 rows × 6 columns</p>\n",
       "</div>"
      ],
      "text/plain": [
       "               date  date_block_num  shop_id  item_id  item_price  \\\n",
       "2        05.01.2013               0       25     2552       899.0   \n",
       "148      23.01.2013               0       25     2321       999.0   \n",
       "175      07.01.2013               0       25     2199      1449.0   \n",
       "807      02.01.2013               0       25     2330       599.0   \n",
       "1041     13.01.2013               0       25     5034      1989.0   \n",
       "...             ...             ...      ...      ...         ...   \n",
       "2934243  26.10.2015              33       25     3917       449.0   \n",
       "2934462  18.10.2015              33       25     4896      6398.0   \n",
       "2935263  05.10.2015              33       25    10039       249.0   \n",
       "2935643  16.10.2015              33       25     7893      2990.0   \n",
       "2935779  07.10.2015              33       25     7087       999.0   \n",
       "\n",
       "         item_cnt_day  \n",
       "2                -1.0  \n",
       "148              -1.0  \n",
       "175              -1.0  \n",
       "807              -1.0  \n",
       "1041             -1.0  \n",
       "...               ...  \n",
       "2934243          -1.0  \n",
       "2934462          -1.0  \n",
       "2935263          -1.0  \n",
       "2935643          -1.0  \n",
       "2935779          -1.0  \n",
       "\n",
       "[7357 rows x 6 columns]"
      ]
     },
     "execution_count": 14,
     "metadata": {},
     "output_type": "execute_result"
    }
   ],
   "source": [
    "get_negative_rows(data['sales_train'])"
   ]
  },
  {
   "cell_type": "markdown",
   "metadata": {},
   "source": [
    "This occurs systematically, indicating it is not a mistake but possibly just returns. We can try to find the explanation."
   ]
  },
  {
   "cell_type": "markdown",
   "metadata": {},
   "source": [
    "Checking the skips in shops, that way we can find the shop IDs that never ha a negative value in item_cnt_day."
   ]
  },
  {
   "cell_type": "code",
   "execution_count": 15,
   "metadata": {},
   "outputs": [
    {
     "data": {
      "text/plain": [
       "[0, 1, 10, 11, 13, 51]"
      ]
     },
     "execution_count": 15,
     "metadata": {},
     "output_type": "execute_result"
    }
   ],
   "source": [
    "check_for_skips(get_negative_rows(data['sales_train'])['shop_id'])"
   ]
  },
  {
   "cell_type": "markdown",
   "metadata": {},
   "source": [
    "Only six shop ID never dealt with a negative values, seems like it's really returns."
   ]
  },
  {
   "cell_type": "markdown",
   "metadata": {},
   "source": [
    "Checking for what item_name s are mostly compared with negative values to understand is it really returns. Let's print top-10 of them."
   ]
  },
  {
   "cell_type": "code",
   "execution_count": 16,
   "metadata": {},
   "outputs": [
    {
     "name": "stdout",
     "output_type": "stream",
     "text": [
      "['Bestseller. S.T.A.L.K.E.R. [PC, Jewel]', 'Call of Duty: Ghosts [PS4, русская версия]', 'Grand Theft Auto V [PS3, русские субтитры]', 'Grand Theft Auto V [Xbox 360, русские субтитры]', 'Kinect Rush [только для Kinect] [Xbox 360]', 'Kinect Star Wars [только для Kinect] [Xbox 360]', 'LEGO Batman 2: DC Super Heroes [PС, Jewel, русские субтитры]', 'PS3: Гарнитура беспроводная для PS3 (с поддержкой PS4) (Pulse Wireless Stereo Headset: CECHYA-0086:', 'PS4: Контроллер игровой беспроводной черный (Dualshock 4 Cont Anthracite Black: CUH-ZCT1: SCEE)', 'Одни из нас [PS3, русская версия]']\n"
     ]
    }
   ],
   "source": [
    "counted_returns = count_elements(get_negative_rows(data['sales_train'])['item_id'])\n",
    "top_returns = dict(sorted(counted_returns.items(), key=lambda x: x[1], reverse=True)[:10])\n",
    "print(get_item_names(data['items'], top_returns))"
   ]
  },
  {
   "cell_type": "markdown",
   "metadata": {},
   "source": [
    "Plot the distribution of possible returns"
   ]
  },
  {
   "cell_type": "code",
   "execution_count": 17,
   "metadata": {},
   "outputs": [
    {
     "data": {
      "image/png": "[encoded data removed]",
      "text/plain": [
       "<Figure size 640x480 with 1 Axes>"
      ]
     },
     "metadata": {},
     "output_type": "display_data"
    }
   ],
   "source": [
    "import numpy as np\n",
    "\n",
    "log_counts = np.log10(list(counted_returns.values()))\n",
    "\n",
    "sns.histplot(log_counts, kde=False, bins=30)\n",
    "plt.title('Logarithmic Distribution of Returns by Item ID')\n",
    "plt.xlabel('Log10(Amount of Returns)')\n",
    "plt.ylabel('Frequency')\n",
    "plt.show()\n",
    "\n"
   ]
  },
  {
   "cell_type": "markdown",
   "metadata": {},
   "source": [
    "We see that most things in the data have few or no returns, while some have a lot of returns.\n",
    "Also, most returns involve video games, which is very plausible. Therefore, we can say that this is certainly not a mistake, and we have to admit it."
   ]
  },
  {
   "cell_type": "markdown",
   "metadata": {},
   "source": [
    "## Checking dataframes for duplicates"
   ]
  },
  {
   "cell_type": "markdown",
   "metadata": {},
   "source": [
    "Check 'shops' for duplicates:"
   ]
  },
  {
   "cell_type": "code",
   "execution_count": 18,
   "metadata": {},
   "outputs": [
    {
     "data": {
      "text/plain": [
       "[('РостовНаДону ТРК \"Мегацентр Горизонт\"',\n",
       "  'РостовНаДону ТРК \"Мегацентр Горизонт\" Островной',\n",
       "  88.09523809523809),\n",
       " ('!Якутск ТЦ \"Центральный\" фран',\n",
       "  'Якутск ТЦ \"Центральный\"',\n",
       "  88.46153846153845),\n",
       " ('Жуковский ул. Чкалова 39м?',\n",
       "  'Жуковский ул. Чкалова 39м²',\n",
       "  96.15384615384616),\n",
       " ('Москва ТК \"Буденовский\" (пав.А2)',\n",
       "  'Москва ТК \"Буденовский\" (пав.К7)',\n",
       "  93.75),\n",
       " ('!Якутск Орджоникидзе, 56 фран',\n",
       "  'Якутск Орджоникидзе, 56',\n",
       "  88.46153846153845)]"
      ]
     },
     "execution_count": 18,
     "metadata": {},
     "output_type": "execute_result"
    }
   ],
   "source": [
    "find_potential_duplicates(data[\"shops\"], \"shop_name\")"
   ]
  },
  {
   "cell_type": "markdown",
   "metadata": {},
   "source": [
    "These duplicates look more like a dataframe compiler error than really different stores with a very similar name. Only those duplicates that have a longer lifetime can be kept."
   ]
  },
  {
   "cell_type": "markdown",
   "metadata": {},
   "source": [
    "Checking 'items' df for duplicates"
   ]
  },
  {
   "cell_type": "code",
   "execution_count": 19,
   "metadata": {},
   "outputs": [],
   "source": [
    "# find_potential_duplicates(data[\"items\"], \"item_name\")"
   ]
  },
  {
   "cell_type": "markdown",
   "metadata": {},
   "source": [
    "*NOTE: Output is too long, due that cell output is clear.*\n",
    "\n",
    "The duplicates found visually look like really different positions, although they have high similarity scores. The number of duplicates is too large to draw any specific conclusions. No changes will be made."
   ]
  },
  {
   "cell_type": "code",
   "execution_count": 20,
   "metadata": {},
   "outputs": [
    {
     "data": {
      "text/plain": [
       "[('Игры - PS2', 'Игры - PS4', 90.0),\n",
       " ('Игровые консоли - PS2', 'Игровые консоли - PS4', 95.23809523809523),\n",
       " ('Аксессуары - PS4', 'Аксессуары - PSP', 93.75),\n",
       " ('Игровые консоли - PS2', 'Игровые консоли - PS3', 95.23809523809523),\n",
       " ('Игры - PS3', 'Игры - PSP', 90.0),\n",
       " ('Игровые консоли - PS3', 'Игровые консоли - PSP', 95.23809523809523),\n",
       " ('Игры - PS3', 'Игры - PS4', 90.0),\n",
       " ('Аксессуары - PS2', 'Аксессуары - PSP', 93.75),\n",
       " ('Игровые консоли - PS4', 'Игровые консоли - PSP', 95.23809523809523),\n",
       " ('Игровые консоли - PS2', 'Игровые консоли - PSP', 95.23809523809523),\n",
       " ('Игры - PS2', 'Игры - PS3', 90.0),\n",
       " ('Игры MAC - Цифра', 'Игры PC - Цифра', 90.32258064516128),\n",
       " ('Кино - Blu-Ray', 'Кино - Blu-Ray 4K', 90.32258064516128),\n",
       " ('Кино - Blu-Ray', 'Кино - Blu-Ray 3D', 90.32258064516128),\n",
       " ('Аксессуары - PS2', 'Аксессуары - PS4', 93.75),\n",
       " ('Аксессуары - PS2', 'Аксессуары - PS3', 93.75),\n",
       " ('Аксессуары - PS3', 'Аксессуары - PSP', 93.75),\n",
       " ('Аксессуары - PS3', 'Аксессуары - PS4', 93.75),\n",
       " ('Игры - PS4', 'Игры - PSP', 90.0),\n",
       " ('Игровые консоли - PS3', 'Игровые консоли - PS4', 95.23809523809523),\n",
       " ('Книги - Аудиокниги', 'Книги - Аудиокниги 1С', 92.3076923076923),\n",
       " ('Игры - PS2', 'Игры - PSP', 90.0)]"
      ]
     },
     "execution_count": 20,
     "metadata": {},
     "output_type": "execute_result"
    }
   ],
   "source": [
    "find_potential_duplicates(data[\"item_categories\"], \"item_category_name\", similarity_threshold=90)"
   ]
  },
  {
   "cell_type": "markdown",
   "metadata": {},
   "source": [
    "The duplicates found, although they have almost identical names, are still different positions. Most of all duplicates found contain substrings like \"PS\", which is not a reason for deletion. I don't think it's necessary to make changes to this dataframe"
   ]
  },
  {
   "cell_type": "markdown",
   "metadata": {},
   "source": [
    "### Timeline check for every shop separately"
   ]
  },
  {
   "cell_type": "markdown",
   "metadata": {},
   "source": [
    "There are 50+ shops in dataset, it can be assumed that not every shop existed over the three years that our data covers. Would be useful to check every shop timeline to unerstand their lifetime."
   ]
  },
  {
   "cell_type": "code",
   "execution_count": 21,
   "metadata": {},
   "outputs": [
    {
     "name": "stdout",
     "output_type": "stream",
     "text": [
      "Shop: Москва \"Распродажа\", Dаys shop worked: 9\n",
      "Shop: Выездная Торговля, Dаys shop worked: 14\n",
      "Shop: Новосибирск ТРЦ \"Галерея Новосибирск\", Dаys shop worked: 14\n",
      "Shop: Жуковский ул. Чкалова 39м², Dаys shop worked: 28\n",
      "Shop: !Якутск ТЦ \"Центральный\" фран, Dаys shop worked: 56\n",
      "Shop: !Якутск Орджоникидзе, 56 фран, Dаys shop worked: 57\n",
      "Shop: Воронеж ТРЦ Сити-Парк \"Град\", Dаys shop worked: 84\n",
      "Shop: Москва ТК \"Буденовский\" (пав.А2), Dаys shop worked: 117\n",
      "Shop: Москва ТЦ \"Серебряный Дом\", Dаys shop worked: 183\n",
      "Shop: Мытищи ТРК \"XL-3\", Dаys shop worked: 201\n"
     ]
    }
   ],
   "source": [
    "sales_df = pd.DataFrame(data['sales_train'])\n",
    "shops_df = pd.DataFrame(data['shops'])\n",
    "\n",
    "sorted_working_days_dict = get_shop_working_days_sorted(sales_df, shops_df)\n",
    "top10 = dict(islice(sorted_working_days_dict.items(), 10))\n",
    "\n",
    "for shop_name, working_days in top10.items():\n",
    "    print(f\"Shop: {shop_name}, Dаys shop worked: {working_days}\")\n"
   ]
  },
  {
   "cell_type": "markdown",
   "metadata": {},
   "source": [
    "Some shops have a very short lifespan. I think it would be useful to remove shops that have existed for less than a half month."
   ]
  },
  {
   "cell_type": "markdown",
   "metadata": {},
   "source": [
    "# ETL\n",
    "After DQC performed we can do the ETL relying on DQC.\n",
    "- Remove or correct negative values ​​in item_cnt_day and item_price where necessary.\n",
    "- Filter outliers at 1st and 99th percentile for item_cnt_day and item_price.\n",
    "- Merge duplicate stores and correct data.\n",
    "- Remove invalid products and stores if they have incorrect or missing data.\n",
    "- Merge tables (sales_train, items, shops, item_categories) to create consistent data.\n",
    "- Validate dates and create new time features."
   ]
  },
  {
   "cell_type": "code",
   "execution_count": 25,
   "metadata": {},
   "outputs": [
    {
     "name": "stdout",
     "output_type": "stream",
     "text": [
      "Negative values in item_cnt_day: 7356\n",
      "Negative values in item_price: 0\n",
      "sales_train shape after filtering outliers: (2843929, 6)\n",
      "<class 'pandas.core.frame.DataFrame'>\n",
      "RangeIndex: 1066138 entries, 0 to 1066137\n",
      "Data columns (total 17 columns):\n",
      " #   Column               Non-Null Count    Dtype  \n",
      "---  ------               --------------    -----  \n",
      " 0   date                 1066138 non-null  object \n",
      " 1   date__month          1066138 non-null  int64  \n",
      " 2   shop_id              1066138 non-null  int64  \n",
      " 3   item_id              1066138 non-null  int64  \n",
      " 4   item_price           1066138 non-null  float64\n",
      " 5   item_cnt_day         1066138 non-null  float64\n",
      " 6   item_category_id     1066138 non-null  int64  \n",
      " 7   item_name            1066138 non-null  object \n",
      " 8   item_category_name   1066138 non-null  object \n",
      " 9   shop_name            1066138 non-null  object \n",
      " 10  date__day            1066138 non-null  int64  \n",
      " 11  date__week           1066138 non-null  int64  \n",
      " 12  date__day_of_month   1066138 non-null  int64  \n",
      " 13  date__day_of_week    1066138 non-null  int64  \n",
      " 14  date__week_of_year   1066138 non-null  int64  \n",
      " 15  date__month_of_year  1066138 non-null  int64  \n",
      " 16  date__year           1066138 non-null  int64  \n",
      "dtypes: float64(2), int64(11), object(4)\n",
      "memory usage: 138.3+ MB\n"
     ]
    }
   ],
   "source": [
    "from scripts.etl import etl\n",
    "\n",
    "cleaned_data = etl(data)\n",
    "etl_data = pd.read_csv('sales_train_complete.csv')\n",
    "etl_data.info()"
   ]
  },
  {
   "cell_type": "markdown",
   "metadata": {},
   "source": [
    "# Conclusion\n",
    "The dataset was analyzed and cleaned to ensure better data quality and usability. Below is a summary of the issues identified and actions taken:\n",
    "\n",
    "1. Negative values for item_price and item_cnt_day were present.\n",
    "3. Extremely high item_cnt_day values (> 200) were deemed unrealistic and likely erroneous.\n",
    "4. Several shops were identified as potential duplicates based on their names (e.g., differences in formatting or encoding).\n",
    "5. Shops with less than 15 days of recorded activity were identified as unreliable for analysis.\n",
    "\n",
    "\n",
    "Most tables are well-structured with no significant missing data.\n",
    "Short-lived shops and duplicate shops slightly reduced the dataset size but improved reliability.\n",
    "Outliers and unrealistic values have been removed, ensuring a more accurate representation of sales.\n",
    "\n",
    "### Overall\n",
    "\n",
    "The data quality has improved after cleaning. However, some limitations remain due to potential unrecorded sales, shop closures, or system errors.\n",
    "This cleaned data is now better suited for forecasting tasks, such as predicting monthly sales."
   ]
  },
  {
   "cell_type": "code",
   "execution_count": null,
   "metadata": {},
   "outputs": [],
   "source": []
  }
 ],
 "metadata": {
  "kernelspec": {
   "display_name": "Python 3",
   "language": "python",
   "name": "python3"
  },
  "language_info": {
   "codemirror_mode": {
    "name": "ipython",
    "version": 3
   },
   "file_extension": ".py",
   "mimetype": "text/x-python",
   "name": "python",
   "nbconvert_exporter": "python",
   "pygments_lexer": "ipython3",
   "version": "3.12.4"
  }
 },
 "nbformat": 4,
 "nbformat_minor": 2
}
